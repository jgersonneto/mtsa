{
  "cells": [
    {
      "attachments": {},
      "cell_type": "markdown",
      "metadata": {
        "colab_type": "text",
        "id": "view-in-github"
      },
      "source": [
        "<a href=\"https://colab.research.google.com/github/diegompin/mtsa/blob/feature%2Fv0.0.8/examples/MTSA.ipynb\" target=\"_parent\"><img src=\"https://colab.research.google.com/assets/colab-badge.svg\" alt=\"Open In Colab\"/></a>"
      ]
    },
    {
      "attachments": {},
      "cell_type": "markdown",
      "metadata": {
        "id": "T3S9SKUv2m_f"
      },
      "source": [
        "# MTSA - **M**ultiple **T**ime **S**eries **A**nalysis\n"
      ]
    },
    {
      "attachments": {},
      "cell_type": "markdown",
      "metadata": {
        "id": "BkjlJ89P5Ftn"
      },
      "source": [
        "### Installing MTSA module:"
      ]
    },
    {
      "cell_type": "code",
      "execution_count": 54,
      "metadata": {
        "id": "ko7L-5oj2-J4"
      },
      "outputs": [
        {
          "name": "stdout",
          "output_type": "stream",
          "text": [
            "Requirement already satisfied: mtsa in /usr/local/lib/python3.8/dist-packages (0.0.10)\n",
            "Requirement already satisfied: pandas==1.5.2 in /usr/local/lib/python3.8/dist-packages (from mtsa) (1.5.2)\n",
            "Requirement already satisfied: keras==2.11.0 in /usr/local/lib/python3.8/dist-packages (from mtsa) (2.11.0)\n",
            "Requirement already satisfied: scipy==1.10.0 in /usr/local/lib/python3.8/dist-packages (from mtsa) (1.10.0)\n",
            "Requirement already satisfied: pytest==7.2.0 in /usr/local/lib/python3.8/dist-packages (from mtsa) (7.2.0)\n",
            "Requirement already satisfied: librosa==0.9.2 in /usr/local/lib/python3.8/dist-packages (from mtsa) (0.9.2)\n",
            "Requirement already satisfied: tables==3.8.0 in /usr/local/lib/python3.8/dist-packages (from mtsa) (3.8.0)\n",
            "Requirement already satisfied: scikit-learn==1.2.0 in /usr/local/lib/python3.8/dist-packages (from mtsa) (1.2.0)\n",
            "Requirement already satisfied: tensorflow==2.11.0 in /usr/local/lib/python3.8/dist-packages (from mtsa) (2.11.0)\n",
            "Requirement already satisfied: numpy==1.23.4 in /usr/local/lib/python3.8/dist-packages (from mtsa) (1.23.4)\n",
            "Requirement already satisfied: matplotlib==3.6.2 in /usr/local/lib/python3.8/dist-packages (from mtsa) (3.6.2)\n",
            "Requirement already satisfied: seaborn==0.12.2 in /usr/local/lib/python3.8/dist-packages (from mtsa) (0.12.2)\n",
            "Requirement already satisfied: ipykernel==6.16.0 in /usr/local/lib/python3.8/dist-packages (from mtsa) (6.16.0)\n",
            "Requirement already satisfied: packaging in /usr/local/lib/python3.8/dist-packages (from ipykernel==6.16.0->mtsa) (23.0)\n",
            "Requirement already satisfied: ipython>=7.23.1 in /root/.local/lib/python3.8/site-packages (from ipykernel==6.16.0->mtsa) (8.12.3)\n",
            "Requirement already satisfied: psutil in /root/.local/lib/python3.8/site-packages (from ipykernel==6.16.0->mtsa) (5.9.8)\n",
            "Requirement already satisfied: pyzmq>=17 in /root/.local/lib/python3.8/site-packages (from ipykernel==6.16.0->mtsa) (25.1.2)\n",
            "Requirement already satisfied: traitlets>=5.1.0 in /root/.local/lib/python3.8/site-packages (from ipykernel==6.16.0->mtsa) (5.14.1)\n",
            "Requirement already satisfied: nest-asyncio in /root/.local/lib/python3.8/site-packages (from ipykernel==6.16.0->mtsa) (1.6.0)\n",
            "Requirement already satisfied: matplotlib-inline>=0.1 in /root/.local/lib/python3.8/site-packages (from ipykernel==6.16.0->mtsa) (0.1.6)\n",
            "Requirement already satisfied: debugpy>=1.0 in /root/.local/lib/python3.8/site-packages (from ipykernel==6.16.0->mtsa) (1.8.1)\n",
            "Requirement already satisfied: tornado>=6.1 in /root/.local/lib/python3.8/site-packages (from ipykernel==6.16.0->mtsa) (6.4)\n",
            "Requirement already satisfied: jupyter-client>=6.1.12 in /root/.local/lib/python3.8/site-packages (from ipykernel==6.16.0->mtsa) (8.6.0)\n",
            "Requirement already satisfied: audioread>=2.1.9 in /usr/local/lib/python3.8/dist-packages (from librosa==0.9.2->mtsa) (3.0.1)\n",
            "Requirement already satisfied: pooch>=1.0 in /usr/local/lib/python3.8/dist-packages (from librosa==0.9.2->mtsa) (1.8.1)\n",
            "Requirement already satisfied: numba>=0.45.1 in /usr/local/lib/python3.8/dist-packages (from librosa==0.9.2->mtsa) (0.58.1)\n",
            "Requirement already satisfied: resampy>=0.2.2 in /usr/local/lib/python3.8/dist-packages (from librosa==0.9.2->mtsa) (0.4.2)\n",
            "Requirement already satisfied: decorator>=4.0.10 in /root/.local/lib/python3.8/site-packages (from librosa==0.9.2->mtsa) (5.1.1)\n",
            "Requirement already satisfied: joblib>=0.14 in /usr/local/lib/python3.8/dist-packages (from librosa==0.9.2->mtsa) (1.3.2)\n",
            "Requirement already satisfied: soundfile>=0.10.2 in /usr/local/lib/python3.8/dist-packages (from librosa==0.9.2->mtsa) (0.12.1)\n",
            "Requirement already satisfied: kiwisolver>=1.0.1 in /usr/local/lib/python3.8/dist-packages (from matplotlib==3.6.2->mtsa) (1.4.5)\n",
            "Requirement already satisfied: pillow>=6.2.0 in /usr/local/lib/python3.8/dist-packages (from matplotlib==3.6.2->mtsa) (10.2.0)\n",
            "Requirement already satisfied: python-dateutil>=2.7 in /root/.local/lib/python3.8/site-packages (from matplotlib==3.6.2->mtsa) (2.8.2)\n",
            "Requirement already satisfied: pyparsing>=2.2.1 in /usr/local/lib/python3.8/dist-packages (from matplotlib==3.6.2->mtsa) (3.1.1)\n",
            "Requirement already satisfied: fonttools>=4.22.0 in /usr/local/lib/python3.8/dist-packages (from matplotlib==3.6.2->mtsa) (4.49.0)\n",
            "Requirement already satisfied: contourpy>=1.0.1 in /usr/local/lib/python3.8/dist-packages (from matplotlib==3.6.2->mtsa) (1.1.1)\n",
            "Requirement already satisfied: cycler>=0.10 in /usr/local/lib/python3.8/dist-packages (from matplotlib==3.6.2->mtsa) (0.12.1)\n",
            "Requirement already satisfied: pytz>=2020.1 in /usr/local/lib/python3.8/dist-packages (from pandas==1.5.2->mtsa) (2024.1)\n",
            "Requirement already satisfied: pluggy<2.0,>=0.12 in /usr/local/lib/python3.8/dist-packages (from pytest==7.2.0->mtsa) (1.4.0)\n",
            "Requirement already satisfied: attrs>=19.2.0 in /usr/local/lib/python3.8/dist-packages (from pytest==7.2.0->mtsa) (23.2.0)\n",
            "Requirement already satisfied: tomli>=1.0.0 in /usr/local/lib/python3.8/dist-packages (from pytest==7.2.0->mtsa) (2.0.1)\n",
            "Requirement already satisfied: iniconfig in /usr/local/lib/python3.8/dist-packages (from pytest==7.2.0->mtsa) (2.0.0)\n",
            "Requirement already satisfied: exceptiongroup>=1.0.0rc8 in /usr/local/lib/python3.8/dist-packages (from pytest==7.2.0->mtsa) (1.2.0)\n",
            "Requirement already satisfied: threadpoolctl>=2.0.0 in /usr/local/lib/python3.8/dist-packages (from scikit-learn==1.2.0->mtsa) (3.3.0)\n",
            "Requirement already satisfied: cython>=0.29.21 in /usr/local/lib/python3.8/dist-packages (from tables==3.8.0->mtsa) (3.0.8)\n",
            "Requirement already satisfied: numexpr>=2.6.2 in /usr/local/lib/python3.8/dist-packages (from tables==3.8.0->mtsa) (2.8.6)\n",
            "Requirement already satisfied: blosc2~=2.0.0 in /usr/local/lib/python3.8/dist-packages (from tables==3.8.0->mtsa) (2.0.0)\n",
            "Requirement already satisfied: py-cpuinfo in /usr/local/lib/python3.8/dist-packages (from tables==3.8.0->mtsa) (9.0.0)\n",
            "Requirement already satisfied: tensorflow-estimator<2.12,>=2.11.0 in /usr/local/lib/python3.8/dist-packages (from tensorflow==2.11.0->mtsa) (2.11.0)\n",
            "Requirement already satisfied: flatbuffers>=2.0 in /usr/local/lib/python3.8/dist-packages (from tensorflow==2.11.0->mtsa) (23.3.3)\n",
            "Requirement already satisfied: setuptools in /usr/local/lib/python3.8/dist-packages (from tensorflow==2.11.0->mtsa) (67.6.0)\n",
            "Requirement already satisfied: grpcio<2.0,>=1.24.3 in /usr/local/lib/python3.8/dist-packages (from tensorflow==2.11.0->mtsa) (1.51.3)\n",
            "Requirement already satisfied: typing-extensions>=3.6.6 in /usr/local/lib/python3.8/dist-packages (from tensorflow==2.11.0->mtsa) (4.5.0)\n",
            "Requirement already satisfied: gast<=0.4.0,>=0.2.1 in /usr/local/lib/python3.8/dist-packages (from tensorflow==2.11.0->mtsa) (0.4.0)\n",
            "Requirement already satisfied: tensorboard<2.12,>=2.11 in /usr/local/lib/python3.8/dist-packages (from tensorflow==2.11.0->mtsa) (2.11.2)\n",
            "Requirement already satisfied: protobuf<3.20,>=3.9.2 in /usr/local/lib/python3.8/dist-packages (from tensorflow==2.11.0->mtsa) (3.19.6)\n",
            "Requirement already satisfied: libclang>=13.0.0 in /usr/local/lib/python3.8/dist-packages (from tensorflow==2.11.0->mtsa) (16.0.0)\n",
            "Requirement already satisfied: opt-einsum>=2.3.2 in /usr/local/lib/python3.8/dist-packages (from tensorflow==2.11.0->mtsa) (3.3.0)\n",
            "Requirement already satisfied: termcolor>=1.1.0 in /usr/local/lib/python3.8/dist-packages (from tensorflow==2.11.0->mtsa) (2.2.0)\n",
            "Requirement already satisfied: six>=1.12.0 in /usr/lib/python3/dist-packages (from tensorflow==2.11.0->mtsa) (1.14.0)\n",
            "Requirement already satisfied: h5py>=2.9.0 in /usr/local/lib/python3.8/dist-packages (from tensorflow==2.11.0->mtsa) (3.8.0)\n",
            "Requirement already satisfied: absl-py>=1.0.0 in /usr/local/lib/python3.8/dist-packages (from tensorflow==2.11.0->mtsa) (1.4.0)\n",
            "Requirement already satisfied: wrapt>=1.11.0 in /usr/local/lib/python3.8/dist-packages (from tensorflow==2.11.0->mtsa) (1.14.1)\n",
            "Requirement already satisfied: astunparse>=1.6.0 in /usr/local/lib/python3.8/dist-packages (from tensorflow==2.11.0->mtsa) (1.6.3)\n",
            "Requirement already satisfied: tensorflow-io-gcs-filesystem>=0.23.1 in /usr/local/lib/python3.8/dist-packages (from tensorflow==2.11.0->mtsa) (0.31.0)\n",
            "Requirement already satisfied: google-pasta>=0.1.1 in /usr/local/lib/python3.8/dist-packages (from tensorflow==2.11.0->mtsa) (0.2.0)\n",
            "Requirement already satisfied: wheel<1.0,>=0.23.0 in /usr/local/lib/python3.8/dist-packages (from astunparse>=1.6.0->tensorflow==2.11.0->mtsa) (0.40.0)\n",
            "Requirement already satisfied: msgpack in /usr/local/lib/python3.8/dist-packages (from blosc2~=2.0.0->tables==3.8.0->mtsa) (1.0.7)\n",
            "Requirement already satisfied: pickleshare in /root/.local/lib/python3.8/site-packages (from ipython>=7.23.1->ipykernel==6.16.0->mtsa) (0.7.5)\n",
            "Requirement already satisfied: jedi>=0.16 in /root/.local/lib/python3.8/site-packages (from ipython>=7.23.1->ipykernel==6.16.0->mtsa) (0.19.1)\n",
            "Requirement already satisfied: pygments>=2.4.0 in /root/.local/lib/python3.8/site-packages (from ipython>=7.23.1->ipykernel==6.16.0->mtsa) (2.17.2)\n",
            "Requirement already satisfied: backcall in /root/.local/lib/python3.8/site-packages (from ipython>=7.23.1->ipykernel==6.16.0->mtsa) (0.2.0)\n",
            "Requirement already satisfied: pexpect>4.3 in /root/.local/lib/python3.8/site-packages (from ipython>=7.23.1->ipykernel==6.16.0->mtsa) (4.9.0)\n",
            "Requirement already satisfied: prompt-toolkit!=3.0.37,<3.1.0,>=3.0.30 in /root/.local/lib/python3.8/site-packages (from ipython>=7.23.1->ipykernel==6.16.0->mtsa) (3.0.43)\n",
            "Requirement already satisfied: stack-data in /root/.local/lib/python3.8/site-packages (from ipython>=7.23.1->ipykernel==6.16.0->mtsa) (0.6.3)\n",
            "Requirement already satisfied: jupyter-core!=5.0.*,>=4.12 in /root/.local/lib/python3.8/site-packages (from jupyter-client>=6.1.12->ipykernel==6.16.0->mtsa) (5.7.1)\n",
            "Requirement already satisfied: importlib-metadata>=4.8.3 in /usr/local/lib/python3.8/dist-packages (from jupyter-client>=6.1.12->ipykernel==6.16.0->mtsa) (6.1.0)\n",
            "Requirement already satisfied: llvmlite<0.42,>=0.41.0dev0 in /usr/local/lib/python3.8/dist-packages (from numba>=0.45.1->librosa==0.9.2->mtsa) (0.41.1)\n",
            "Requirement already satisfied: platformdirs>=2.5.0 in /root/.local/lib/python3.8/site-packages (from pooch>=1.0->librosa==0.9.2->mtsa) (4.2.0)\n",
            "Requirement already satisfied: requests>=2.19.0 in /usr/lib/python3/dist-packages (from pooch>=1.0->librosa==0.9.2->mtsa) (2.22.0)\n",
            "Requirement already satisfied: cffi>=1.0 in /usr/local/lib/python3.8/dist-packages (from soundfile>=0.10.2->librosa==0.9.2->mtsa) (1.16.0)\n",
            "Requirement already satisfied: google-auth<3,>=1.6.3 in /usr/local/lib/python3.8/dist-packages (from tensorboard<2.12,>=2.11->tensorflow==2.11.0->mtsa) (2.16.2)\n",
            "Requirement already satisfied: markdown>=2.6.8 in /usr/local/lib/python3.8/dist-packages (from tensorboard<2.12,>=2.11->tensorflow==2.11.0->mtsa) (3.4.3)\n",
            "Requirement already satisfied: tensorboard-plugin-wit>=1.6.0 in /usr/local/lib/python3.8/dist-packages (from tensorboard<2.12,>=2.11->tensorflow==2.11.0->mtsa) (1.8.1)\n",
            "Requirement already satisfied: werkzeug>=1.0.1 in /usr/local/lib/python3.8/dist-packages (from tensorboard<2.12,>=2.11->tensorflow==2.11.0->mtsa) (2.2.3)\n",
            "Requirement already satisfied: google-auth-oauthlib<0.5,>=0.4.1 in /usr/local/lib/python3.8/dist-packages (from tensorboard<2.12,>=2.11->tensorflow==2.11.0->mtsa) (0.4.6)\n",
            "Requirement already satisfied: tensorboard-data-server<0.7.0,>=0.6.0 in /usr/local/lib/python3.8/dist-packages (from tensorboard<2.12,>=2.11->tensorflow==2.11.0->mtsa) (0.6.1)\n",
            "Requirement already satisfied: pycparser in /usr/local/lib/python3.8/dist-packages (from cffi>=1.0->soundfile>=0.10.2->librosa==0.9.2->mtsa) (2.21)\n",
            "Requirement already satisfied: cachetools<6.0,>=2.0.0 in /usr/local/lib/python3.8/dist-packages (from google-auth<3,>=1.6.3->tensorboard<2.12,>=2.11->tensorflow==2.11.0->mtsa) (5.3.0)\n",
            "Requirement already satisfied: rsa<5,>=3.1.4 in /usr/local/lib/python3.8/dist-packages (from google-auth<3,>=1.6.3->tensorboard<2.12,>=2.11->tensorflow==2.11.0->mtsa) (4.9)\n",
            "Requirement already satisfied: pyasn1-modules>=0.2.1 in /usr/local/lib/python3.8/dist-packages (from google-auth<3,>=1.6.3->tensorboard<2.12,>=2.11->tensorflow==2.11.0->mtsa) (0.2.8)\n",
            "Requirement already satisfied: requests-oauthlib>=0.7.0 in /usr/local/lib/python3.8/dist-packages (from google-auth-oauthlib<0.5,>=0.4.1->tensorboard<2.12,>=2.11->tensorflow==2.11.0->mtsa) (1.3.1)\n",
            "Requirement already satisfied: zipp>=0.5 in /usr/local/lib/python3.8/dist-packages (from importlib-metadata>=4.8.3->jupyter-client>=6.1.12->ipykernel==6.16.0->mtsa) (3.15.0)\n",
            "Requirement already satisfied: parso<0.9.0,>=0.8.3 in /root/.local/lib/python3.8/site-packages (from jedi>=0.16->ipython>=7.23.1->ipykernel==6.16.0->mtsa) (0.8.3)\n",
            "Requirement already satisfied: ptyprocess>=0.5 in /root/.local/lib/python3.8/site-packages (from pexpect>4.3->ipython>=7.23.1->ipykernel==6.16.0->mtsa) (0.7.0)\n",
            "Requirement already satisfied: wcwidth in /root/.local/lib/python3.8/site-packages (from prompt-toolkit!=3.0.37,<3.1.0,>=3.0.30->ipython>=7.23.1->ipykernel==6.16.0->mtsa) (0.2.13)\n",
            "Requirement already satisfied: MarkupSafe>=2.1.1 in /usr/local/lib/python3.8/dist-packages (from werkzeug>=1.0.1->tensorboard<2.12,>=2.11->tensorflow==2.11.0->mtsa) (2.1.2)\n",
            "Requirement already satisfied: pure-eval in /root/.local/lib/python3.8/site-packages (from stack-data->ipython>=7.23.1->ipykernel==6.16.0->mtsa) (0.2.2)\n",
            "Requirement already satisfied: executing>=1.2.0 in /root/.local/lib/python3.8/site-packages (from stack-data->ipython>=7.23.1->ipykernel==6.16.0->mtsa) (2.0.1)\n",
            "Requirement already satisfied: asttokens>=2.1.0 in /root/.local/lib/python3.8/site-packages (from stack-data->ipython>=7.23.1->ipykernel==6.16.0->mtsa) (2.4.1)\n",
            "Requirement already satisfied: pyasn1<0.5.0,>=0.4.6 in /usr/local/lib/python3.8/dist-packages (from pyasn1-modules>=0.2.1->google-auth<3,>=1.6.3->tensorboard<2.12,>=2.11->tensorflow==2.11.0->mtsa) (0.4.8)\n",
            "Requirement already satisfied: oauthlib>=3.0.0 in /usr/local/lib/python3.8/dist-packages (from requests-oauthlib>=0.7.0->google-auth-oauthlib<0.5,>=0.4.1->tensorboard<2.12,>=2.11->tensorflow==2.11.0->mtsa) (3.2.2)\n",
            "\u001b[33mWARNING: Running pip as the 'root' user can result in broken permissions and conflicting behaviour with the system package manager. It is recommended to use a virtual environment instead: https://pip.pypa.io/warnings/venv\u001b[0m\u001b[33m\n",
            "\u001b[0m\n",
            "\u001b[1m[\u001b[0m\u001b[34;49mnotice\u001b[0m\u001b[1;39;49m]\u001b[0m\u001b[39;49m A new release of pip is available: \u001b[0m\u001b[31;49m23.0.1\u001b[0m\u001b[39;49m -> \u001b[0m\u001b[32;49m24.0\u001b[0m\n",
            "\u001b[1m[\u001b[0m\u001b[34;49mnotice\u001b[0m\u001b[1;39;49m]\u001b[0m\u001b[39;49m To update, run: \u001b[0m\u001b[32;49mpython3 -m pip install --upgrade pip\u001b[0m\n"
          ]
        }
      ],
      "source": [
        "!pip install mtsa"
      ]
    },
    {
      "attachments": {},
      "cell_type": "markdown",
      "metadata": {
        "id": "WJOI-F8i5Ohp"
      },
      "source": [
        "### Cloning MTSA repository:"
      ]
    },
    {
      "attachments": {},
      "cell_type": "markdown",
      "metadata": {
        "id": "teEVpIfJ5cB-"
      },
      "source": [
        "*Obs: This step is necessary to access the example data.*"
      ]
    },
    {
      "cell_type": "code",
      "execution_count": 55,
      "metadata": {
        "id": "X7plkqXx3fFM"
      },
      "outputs": [
        {
          "name": "stdout",
          "output_type": "stream",
          "text": [
            "fatal: destination path 'mtsa' already exists and is not an empty directory.\n"
          ]
        }
      ],
      "source": [
        "!git clone https://github.com/jgersonneto/mtsa.git"
      ]
    },
    {
      "attachments": {},
      "cell_type": "markdown",
      "metadata": {
        "id": "GPQ09fBr5ue_"
      },
      "source": [
        "### Setting data directory:"
      ]
    },
    {
      "cell_type": "code",
      "execution_count": 56,
      "metadata": {
        "colab": {
          "base_uri": "https://localhost:8080/",
          "height": 36
        },
        "id": "fDEi8QAf3Wq0",
        "outputId": "f8d21c19-110b-4ac4-d762-f6040379112d"
      },
      "outputs": [],
      "source": [
        "import os\n",
        "path_input_1 = os.path.join(os.getcwd(),  \"sample_data\", \"machine_type_1\", \"id_00\")\n",
        "path_input_2 = os.path.join(os.getcwd(),  \"mtsa\", \"examples\", \"sample_data\", \"machine_type_1\", \"id_00\")"
      ]
    },
    {
      "cell_type": "code",
      "execution_count": 45,
      "metadata": {},
      "outputs": [
        {
          "ename": "AssertionError",
          "evalue": "Not enough GPU hardware devices available",
          "output_type": "error",
          "traceback": [
            "\u001b[0;31m---------------------------------------------------------------------------\u001b[0m",
            "\u001b[0;31mAssertionError\u001b[0m                            Traceback (most recent call last)",
            "Cell \u001b[0;32mIn[45], line 3\u001b[0m\n\u001b[1;32m      1\u001b[0m \u001b[38;5;28;01mimport\u001b[39;00m \u001b[38;5;21;01mtensorflow\u001b[39;00m \u001b[38;5;28;01mas\u001b[39;00m \u001b[38;5;21;01mtf\u001b[39;00m\n\u001b[1;32m      2\u001b[0m physical_devices \u001b[38;5;241m=\u001b[39m tf\u001b[38;5;241m.\u001b[39mconfig\u001b[38;5;241m.\u001b[39mexperimental\u001b[38;5;241m.\u001b[39mlist_physical_devices(\u001b[38;5;124m'\u001b[39m\u001b[38;5;124mGPU\u001b[39m\u001b[38;5;124m'\u001b[39m)\n\u001b[0;32m----> 3\u001b[0m \u001b[38;5;28;01massert\u001b[39;00m \u001b[38;5;28mlen\u001b[39m(physical_devices) \u001b[38;5;241m>\u001b[39m \u001b[38;5;241m0\u001b[39m, \u001b[38;5;124m\"\u001b[39m\u001b[38;5;124mNot enough GPU hardware devices available\u001b[39m\u001b[38;5;124m\"\u001b[39m\n\u001b[1;32m      4\u001b[0m config \u001b[38;5;241m=\u001b[39m tf\u001b[38;5;241m.\u001b[39mconfig\u001b[38;5;241m.\u001b[39mexperimental\u001b[38;5;241m.\u001b[39mset_memory_growth(physical_devices[\u001b[38;5;241m0\u001b[39m], \u001b[38;5;28;01mTrue\u001b[39;00m)\n",
            "\u001b[0;31mAssertionError\u001b[0m: Not enough GPU hardware devices available"
          ]
        }
      ],
      "source": [
        "import tensorflow as tf\n",
        "physical_devices = tf.config.experimental.list_physical_devices('GPU')\n",
        "assert len(physical_devices) > 0, \"Not enough GPU hardware devices available\"\n",
        "config = tf.config.experimental.set_memory_growth(physical_devices[0], True)"
      ]
    },
    {
      "cell_type": "code",
      "execution_count": 57,
      "metadata": {},
      "outputs": [],
      "source": [
        "import sys\n",
        "sys.path.append(\"..\")"
      ]
    },
    {
      "attachments": {},
      "cell_type": "markdown",
      "metadata": {
        "id": "8sgHTpcy53JY"
      },
      "source": [
        "### Reading Data Files:"
      ]
    },
    {
      "cell_type": "code",
      "execution_count": 60,
      "metadata": {
        "id": "uoRf7Uzl24L9"
      },
      "outputs": [],
      "source": [
        "from mtsa import calculate_aucroc"
      ]
    },
    {
      "cell_type": "code",
      "execution_count": 61,
      "metadata": {
        "colab": {
          "base_uri": "https://localhost:8080/"
        },
        "id": "KyZ2hEM228t3",
        "outputId": "b907463f-efe2-419a-ebbb-f87b8851acd0"
      },
      "outputs": [
        {
          "data": {
            "text/plain": [
              "array([1., 1., 1., 1., 1.])"
            ]
          },
          "execution_count": 61,
          "metadata": {},
          "output_type": "execute_result"
        }
      ],
      "source": [
        "\n",
        "from mtsa import files_train_test_split\n",
        "X_train, X_test, y_train, y_test = files_train_test_split(path_input_1)\n",
        "if(len(y_train) == 0): \n",
        "    X_train, X_test, y_train, y_test = files_train_test_split(path_input_2)\n",
        "y_train"
      ]
    },
    {
      "attachments": {},
      "cell_type": "markdown",
      "metadata": {
        "id": "GUzDG1sW6LNf"
      },
      "source": [
        "### MFFCMix Model:"
      ]
    },
    {
      "cell_type": "code",
      "execution_count": 62,
      "metadata": {
        "colab": {
          "base_uri": "https://localhost:8080/",
          "height": 254
        },
        "id": "ztsT35vW4ER7",
        "outputId": "70427501-5395-4950-c9ac-b5dedb81a601"
      },
      "outputs": [
        {
          "data": {
            "text/html": [
              "<style>#sk-container-id-8 {color: black;background-color: white;}#sk-container-id-8 pre{padding: 0;}#sk-container-id-8 div.sk-toggleable {background-color: white;}#sk-container-id-8 label.sk-toggleable__label {cursor: pointer;display: block;width: 100%;margin-bottom: 0;padding: 0.3em;box-sizing: border-box;text-align: center;}#sk-container-id-8 label.sk-toggleable__label-arrow:before {content: \"▸\";float: left;margin-right: 0.25em;color: #696969;}#sk-container-id-8 label.sk-toggleable__label-arrow:hover:before {color: black;}#sk-container-id-8 div.sk-estimator:hover label.sk-toggleable__label-arrow:before {color: black;}#sk-container-id-8 div.sk-toggleable__content {max-height: 0;max-width: 0;overflow: hidden;text-align: left;background-color: #f0f8ff;}#sk-container-id-8 div.sk-toggleable__content pre {margin: 0.2em;color: black;border-radius: 0.25em;background-color: #f0f8ff;}#sk-container-id-8 input.sk-toggleable__control:checked~div.sk-toggleable__content {max-height: 200px;max-width: 100%;overflow: auto;}#sk-container-id-8 input.sk-toggleable__control:checked~label.sk-toggleable__label-arrow:before {content: \"▾\";}#sk-container-id-8 div.sk-estimator input.sk-toggleable__control:checked~label.sk-toggleable__label {background-color: #d4ebff;}#sk-container-id-8 div.sk-label input.sk-toggleable__control:checked~label.sk-toggleable__label {background-color: #d4ebff;}#sk-container-id-8 input.sk-hidden--visually {border: 0;clip: rect(1px 1px 1px 1px);clip: rect(1px, 1px, 1px, 1px);height: 1px;margin: -1px;overflow: hidden;padding: 0;position: absolute;width: 1px;}#sk-container-id-8 div.sk-estimator {font-family: monospace;background-color: #f0f8ff;border: 1px dotted black;border-radius: 0.25em;box-sizing: border-box;margin-bottom: 0.5em;}#sk-container-id-8 div.sk-estimator:hover {background-color: #d4ebff;}#sk-container-id-8 div.sk-parallel-item::after {content: \"\";width: 100%;border-bottom: 1px solid gray;flex-grow: 1;}#sk-container-id-8 div.sk-label:hover label.sk-toggleable__label {background-color: #d4ebff;}#sk-container-id-8 div.sk-serial::before {content: \"\";position: absolute;border-left: 1px solid gray;box-sizing: border-box;top: 0;bottom: 0;left: 50%;z-index: 0;}#sk-container-id-8 div.sk-serial {display: flex;flex-direction: column;align-items: center;background-color: white;padding-right: 0.2em;padding-left: 0.2em;position: relative;}#sk-container-id-8 div.sk-item {position: relative;z-index: 1;}#sk-container-id-8 div.sk-parallel {display: flex;align-items: stretch;justify-content: center;background-color: white;position: relative;}#sk-container-id-8 div.sk-item::before, #sk-container-id-8 div.sk-parallel-item::before {content: \"\";position: absolute;border-left: 1px solid gray;box-sizing: border-box;top: 0;bottom: 0;left: 50%;z-index: -1;}#sk-container-id-8 div.sk-parallel-item {display: flex;flex-direction: column;z-index: 1;position: relative;background-color: white;}#sk-container-id-8 div.sk-parallel-item:first-child::after {align-self: flex-end;width: 50%;}#sk-container-id-8 div.sk-parallel-item:last-child::after {align-self: flex-start;width: 50%;}#sk-container-id-8 div.sk-parallel-item:only-child::after {width: 0;}#sk-container-id-8 div.sk-dashed-wrapped {border: 1px dashed gray;margin: 0 0.4em 0.5em 0.4em;box-sizing: border-box;padding-bottom: 0.4em;background-color: white;}#sk-container-id-8 div.sk-label label {font-family: monospace;font-weight: bold;display: inline-block;line-height: 1.2em;}#sk-container-id-8 div.sk-label-container {text-align: center;}#sk-container-id-8 div.sk-container {/* jupyter's `normalize.less` sets `[hidden] { display: none; }` but bootstrap.min.css set `[hidden] { display: none !important; }` so we also need the `!important` here to be able to override the default hidden behavior on the sphinx rendered scikit-learn.org. See: https://github.com/scikit-learn/scikit-learn/issues/21755 */display: inline-block !important;position: relative;}#sk-container-id-8 div.sk-text-repr-fallback {display: none;}</style><div id=\"sk-container-id-8\" class=\"sk-top-container\"><div class=\"sk-text-repr-fallback\"><pre>Pipeline(steps=[(&#x27;wav2array&#x27;, Wav2Array()),\n",
              "                (&#x27;array2mfcc&#x27;, Array2Mfcc(sampling_rate=None)),\n",
              "                (&#x27;features&#x27;,\n",
              "                 FeatureUnion(transformer_list=[(&#x27;M&#x27;,\n",
              "                                                 MagnitudeMeanFeatureMfcc()),\n",
              "                                                (&#x27;S&#x27;,\n",
              "                                                 MagnitudeStdFeatureMfcc()),\n",
              "                                                (&#x27;C&#x27;,\n",
              "                                                 CorrelationFeatureMfcc())])),\n",
              "                (&#x27;final_model&#x27;, GaussianMixture())])</pre><b>In a Jupyter environment, please rerun this cell to show the HTML representation or trust the notebook. <br />On GitHub, the HTML representation is unable to render, please try loading this page with nbviewer.org.</b></div><div class=\"sk-container\" hidden><div class=\"sk-item sk-dashed-wrapped\"><div class=\"sk-label-container\"><div class=\"sk-label sk-toggleable\"><input class=\"sk-toggleable__control sk-hidden--visually\" id=\"sk-estimator-id-48\" type=\"checkbox\" ><label for=\"sk-estimator-id-48\" class=\"sk-toggleable__label sk-toggleable__label-arrow\">Pipeline</label><div class=\"sk-toggleable__content\"><pre>Pipeline(steps=[(&#x27;wav2array&#x27;, Wav2Array()),\n",
              "                (&#x27;array2mfcc&#x27;, Array2Mfcc(sampling_rate=None)),\n",
              "                (&#x27;features&#x27;,\n",
              "                 FeatureUnion(transformer_list=[(&#x27;M&#x27;,\n",
              "                                                 MagnitudeMeanFeatureMfcc()),\n",
              "                                                (&#x27;S&#x27;,\n",
              "                                                 MagnitudeStdFeatureMfcc()),\n",
              "                                                (&#x27;C&#x27;,\n",
              "                                                 CorrelationFeatureMfcc())])),\n",
              "                (&#x27;final_model&#x27;, GaussianMixture())])</pre></div></div></div><div class=\"sk-serial\"><div class=\"sk-item\"><div class=\"sk-estimator sk-toggleable\"><input class=\"sk-toggleable__control sk-hidden--visually\" id=\"sk-estimator-id-49\" type=\"checkbox\" ><label for=\"sk-estimator-id-49\" class=\"sk-toggleable__label sk-toggleable__label-arrow\">Wav2Array</label><div class=\"sk-toggleable__content\"><pre>Wav2Array()</pre></div></div></div><div class=\"sk-item\"><div class=\"sk-estimator sk-toggleable\"><input class=\"sk-toggleable__control sk-hidden--visually\" id=\"sk-estimator-id-50\" type=\"checkbox\" ><label for=\"sk-estimator-id-50\" class=\"sk-toggleable__label sk-toggleable__label-arrow\">Array2Mfcc</label><div class=\"sk-toggleable__content\"><pre>Array2Mfcc(sampling_rate=None)</pre></div></div></div><div class=\"sk-item sk-dashed-wrapped\"><div class=\"sk-label-container\"><div class=\"sk-label sk-toggleable\"><input class=\"sk-toggleable__control sk-hidden--visually\" id=\"sk-estimator-id-51\" type=\"checkbox\" ><label for=\"sk-estimator-id-51\" class=\"sk-toggleable__label sk-toggleable__label-arrow\">features: FeatureUnion</label><div class=\"sk-toggleable__content\"><pre>FeatureUnion(transformer_list=[(&#x27;M&#x27;, MagnitudeMeanFeatureMfcc()),\n",
              "                               (&#x27;S&#x27;, MagnitudeStdFeatureMfcc()),\n",
              "                               (&#x27;C&#x27;, CorrelationFeatureMfcc())])</pre></div></div></div><div class=\"sk-parallel\"><div class=\"sk-parallel-item\"><div class=\"sk-item\"><div class=\"sk-label-container\"><div class=\"sk-label sk-toggleable\"><label>M</label></div></div><div class=\"sk-serial\"><div class=\"sk-item\"><div class=\"sk-estimator sk-toggleable\"><input class=\"sk-toggleable__control sk-hidden--visually\" id=\"sk-estimator-id-52\" type=\"checkbox\" ><label for=\"sk-estimator-id-52\" class=\"sk-toggleable__label sk-toggleable__label-arrow\">MagnitudeMeanFeatureMfcc</label><div class=\"sk-toggleable__content\"><pre>MagnitudeMeanFeatureMfcc()</pre></div></div></div></div></div></div><div class=\"sk-parallel-item\"><div class=\"sk-item\"><div class=\"sk-label-container\"><div class=\"sk-label sk-toggleable\"><label>S</label></div></div><div class=\"sk-serial\"><div class=\"sk-item\"><div class=\"sk-estimator sk-toggleable\"><input class=\"sk-toggleable__control sk-hidden--visually\" id=\"sk-estimator-id-53\" type=\"checkbox\" ><label for=\"sk-estimator-id-53\" class=\"sk-toggleable__label sk-toggleable__label-arrow\">MagnitudeStdFeatureMfcc</label><div class=\"sk-toggleable__content\"><pre>MagnitudeStdFeatureMfcc()</pre></div></div></div></div></div></div><div class=\"sk-parallel-item\"><div class=\"sk-item\"><div class=\"sk-label-container\"><div class=\"sk-label sk-toggleable\"><label>C</label></div></div><div class=\"sk-serial\"><div class=\"sk-item\"><div class=\"sk-estimator sk-toggleable\"><input class=\"sk-toggleable__control sk-hidden--visually\" id=\"sk-estimator-id-54\" type=\"checkbox\" ><label for=\"sk-estimator-id-54\" class=\"sk-toggleable__label sk-toggleable__label-arrow\">CorrelationFeatureMfcc</label><div class=\"sk-toggleable__content\"><pre>CorrelationFeatureMfcc()</pre></div></div></div></div></div></div></div></div><div class=\"sk-item\"><div class=\"sk-estimator sk-toggleable\"><input class=\"sk-toggleable__control sk-hidden--visually\" id=\"sk-estimator-id-55\" type=\"checkbox\" ><label for=\"sk-estimator-id-55\" class=\"sk-toggleable__label sk-toggleable__label-arrow\">GaussianMixture</label><div class=\"sk-toggleable__content\"><pre>GaussianMixture()</pre></div></div></div></div></div></div></div>"
            ],
            "text/plain": [
              "Pipeline(steps=[('wav2array', Wav2Array()),\n",
              "                ('array2mfcc', Array2Mfcc(sampling_rate=None)),\n",
              "                ('features',\n",
              "                 FeatureUnion(transformer_list=[('M',\n",
              "                                                 MagnitudeMeanFeatureMfcc()),\n",
              "                                                ('S',\n",
              "                                                 MagnitudeStdFeatureMfcc()),\n",
              "                                                ('C',\n",
              "                                                 CorrelationFeatureMfcc())])),\n",
              "                ('final_model', GaussianMixture())])"
            ]
          },
          "execution_count": 62,
          "metadata": {},
          "output_type": "execute_result"
        }
      ],
      "source": [
        "from mtsa import MFCCMix\n",
        "model_mfccmix = MFCCMix()\n",
        "model_mfccmix.fit(X_train, y_train)\n",
        "model_mfccmix.model"
      ]
    },
    {
      "cell_type": "code",
      "execution_count": 63,
      "metadata": {
        "colab": {
          "base_uri": "https://localhost:8080/"
        },
        "id": "YRE7dHnc4TQ6",
        "outputId": "4f7d2865-4c63-442d-c939-d2dc50167958"
      },
      "outputs": [
        {
          "data": {
            "text/plain": [
              "0.76"
            ]
          },
          "execution_count": 63,
          "metadata": {},
          "output_type": "execute_result"
        }
      ],
      "source": [
        "auc = calculate_aucroc(model_mfccmix, X_test, y_test)\n",
        "auc"
      ]
    },
    {
      "attachments": {},
      "cell_type": "markdown",
      "metadata": {
        "id": "-zkELfEF6Sjh"
      },
      "source": [
        "### Hitachi Model:"
      ]
    },
    {
      "cell_type": "code",
      "execution_count": 64,
      "metadata": {
        "colab": {
          "base_uri": "https://localhost:8080/",
          "height": 213
        },
        "id": "liN9NNJA4fCN",
        "outputId": "557e8065-66bb-43f6-adab-ac3e51fa8f4f"
      },
      "outputs": [
        {
          "data": {
            "text/html": [
              "<style>#sk-container-id-9 {color: black;background-color: white;}#sk-container-id-9 pre{padding: 0;}#sk-container-id-9 div.sk-toggleable {background-color: white;}#sk-container-id-9 label.sk-toggleable__label {cursor: pointer;display: block;width: 100%;margin-bottom: 0;padding: 0.3em;box-sizing: border-box;text-align: center;}#sk-container-id-9 label.sk-toggleable__label-arrow:before {content: \"▸\";float: left;margin-right: 0.25em;color: #696969;}#sk-container-id-9 label.sk-toggleable__label-arrow:hover:before {color: black;}#sk-container-id-9 div.sk-estimator:hover label.sk-toggleable__label-arrow:before {color: black;}#sk-container-id-9 div.sk-toggleable__content {max-height: 0;max-width: 0;overflow: hidden;text-align: left;background-color: #f0f8ff;}#sk-container-id-9 div.sk-toggleable__content pre {margin: 0.2em;color: black;border-radius: 0.25em;background-color: #f0f8ff;}#sk-container-id-9 input.sk-toggleable__control:checked~div.sk-toggleable__content {max-height: 200px;max-width: 100%;overflow: auto;}#sk-container-id-9 input.sk-toggleable__control:checked~label.sk-toggleable__label-arrow:before {content: \"▾\";}#sk-container-id-9 div.sk-estimator input.sk-toggleable__control:checked~label.sk-toggleable__label {background-color: #d4ebff;}#sk-container-id-9 div.sk-label input.sk-toggleable__control:checked~label.sk-toggleable__label {background-color: #d4ebff;}#sk-container-id-9 input.sk-hidden--visually {border: 0;clip: rect(1px 1px 1px 1px);clip: rect(1px, 1px, 1px, 1px);height: 1px;margin: -1px;overflow: hidden;padding: 0;position: absolute;width: 1px;}#sk-container-id-9 div.sk-estimator {font-family: monospace;background-color: #f0f8ff;border: 1px dotted black;border-radius: 0.25em;box-sizing: border-box;margin-bottom: 0.5em;}#sk-container-id-9 div.sk-estimator:hover {background-color: #d4ebff;}#sk-container-id-9 div.sk-parallel-item::after {content: \"\";width: 100%;border-bottom: 1px solid gray;flex-grow: 1;}#sk-container-id-9 div.sk-label:hover label.sk-toggleable__label {background-color: #d4ebff;}#sk-container-id-9 div.sk-serial::before {content: \"\";position: absolute;border-left: 1px solid gray;box-sizing: border-box;top: 0;bottom: 0;left: 50%;z-index: 0;}#sk-container-id-9 div.sk-serial {display: flex;flex-direction: column;align-items: center;background-color: white;padding-right: 0.2em;padding-left: 0.2em;position: relative;}#sk-container-id-9 div.sk-item {position: relative;z-index: 1;}#sk-container-id-9 div.sk-parallel {display: flex;align-items: stretch;justify-content: center;background-color: white;position: relative;}#sk-container-id-9 div.sk-item::before, #sk-container-id-9 div.sk-parallel-item::before {content: \"\";position: absolute;border-left: 1px solid gray;box-sizing: border-box;top: 0;bottom: 0;left: 50%;z-index: -1;}#sk-container-id-9 div.sk-parallel-item {display: flex;flex-direction: column;z-index: 1;position: relative;background-color: white;}#sk-container-id-9 div.sk-parallel-item:first-child::after {align-self: flex-end;width: 50%;}#sk-container-id-9 div.sk-parallel-item:last-child::after {align-self: flex-start;width: 50%;}#sk-container-id-9 div.sk-parallel-item:only-child::after {width: 0;}#sk-container-id-9 div.sk-dashed-wrapped {border: 1px dashed gray;margin: 0 0.4em 0.5em 0.4em;box-sizing: border-box;padding-bottom: 0.4em;background-color: white;}#sk-container-id-9 div.sk-label label {font-family: monospace;font-weight: bold;display: inline-block;line-height: 1.2em;}#sk-container-id-9 div.sk-label-container {text-align: center;}#sk-container-id-9 div.sk-container {/* jupyter's `normalize.less` sets `[hidden] { display: none; }` but bootstrap.min.css set `[hidden] { display: none !important; }` so we also need the `!important` here to be able to override the default hidden behavior on the sphinx rendered scikit-learn.org. See: https://github.com/scikit-learn/scikit-learn/issues/21755 */display: inline-block !important;position: relative;}#sk-container-id-9 div.sk-text-repr-fallback {display: none;}</style><div id=\"sk-container-id-9\" class=\"sk-top-container\"><div class=\"sk-text-repr-fallback\"><pre>Pipeline(steps=[(&#x27;wav2array&#x27;, Wav2Array(mono=False)),\n",
              "                (&#x27;demux2array&#x27;, Demux2Array()),\n",
              "                (&#x27;array2melspec&#x27;,\n",
              "                 Array2MelSpec(frames=5, hop_length=512, n_fft=1024, n_mels=64,\n",
              "                               power=2.0, sampling_rate=None)),\n",
              "                (&#x27;final_model&#x27;,\n",
              "                 &lt;mtsa.models.hitachi.AutoEncoderMixin object at 0x7f5f70393fa0&gt;)])</pre><b>In a Jupyter environment, please rerun this cell to show the HTML representation or trust the notebook. <br />On GitHub, the HTML representation is unable to render, please try loading this page with nbviewer.org.</b></div><div class=\"sk-container\" hidden><div class=\"sk-item sk-dashed-wrapped\"><div class=\"sk-label-container\"><div class=\"sk-label sk-toggleable\"><input class=\"sk-toggleable__control sk-hidden--visually\" id=\"sk-estimator-id-56\" type=\"checkbox\" ><label for=\"sk-estimator-id-56\" class=\"sk-toggleable__label sk-toggleable__label-arrow\">Pipeline</label><div class=\"sk-toggleable__content\"><pre>Pipeline(steps=[(&#x27;wav2array&#x27;, Wav2Array(mono=False)),\n",
              "                (&#x27;demux2array&#x27;, Demux2Array()),\n",
              "                (&#x27;array2melspec&#x27;,\n",
              "                 Array2MelSpec(frames=5, hop_length=512, n_fft=1024, n_mels=64,\n",
              "                               power=2.0, sampling_rate=None)),\n",
              "                (&#x27;final_model&#x27;,\n",
              "                 &lt;mtsa.models.hitachi.AutoEncoderMixin object at 0x7f5f70393fa0&gt;)])</pre></div></div></div><div class=\"sk-serial\"><div class=\"sk-item\"><div class=\"sk-estimator sk-toggleable\"><input class=\"sk-toggleable__control sk-hidden--visually\" id=\"sk-estimator-id-57\" type=\"checkbox\" ><label for=\"sk-estimator-id-57\" class=\"sk-toggleable__label sk-toggleable__label-arrow\">Wav2Array</label><div class=\"sk-toggleable__content\"><pre>Wav2Array(mono=False)</pre></div></div></div><div class=\"sk-item\"><div class=\"sk-estimator sk-toggleable\"><input class=\"sk-toggleable__control sk-hidden--visually\" id=\"sk-estimator-id-58\" type=\"checkbox\" ><label for=\"sk-estimator-id-58\" class=\"sk-toggleable__label sk-toggleable__label-arrow\">Demux2Array</label><div class=\"sk-toggleable__content\"><pre>Demux2Array()</pre></div></div></div><div class=\"sk-item\"><div class=\"sk-estimator sk-toggleable\"><input class=\"sk-toggleable__control sk-hidden--visually\" id=\"sk-estimator-id-59\" type=\"checkbox\" ><label for=\"sk-estimator-id-59\" class=\"sk-toggleable__label sk-toggleable__label-arrow\">Array2MelSpec</label><div class=\"sk-toggleable__content\"><pre>Array2MelSpec(frames=5, hop_length=512, n_fft=1024, n_mels=64, power=2.0,\n",
              "              sampling_rate=None)</pre></div></div></div><div class=\"sk-item\"><div class=\"sk-estimator sk-toggleable\"><input class=\"sk-toggleable__control sk-hidden--visually\" id=\"sk-estimator-id-60\" type=\"checkbox\" ><label for=\"sk-estimator-id-60\" class=\"sk-toggleable__label sk-toggleable__label-arrow\">AutoEncoderMixin</label><div class=\"sk-toggleable__content\"><pre>&lt;mtsa.models.hitachi.AutoEncoderMixin object at 0x7f5f70393fa0&gt;</pre></div></div></div></div></div></div></div>"
            ],
            "text/plain": [
              "Pipeline(steps=[('wav2array', Wav2Array(mono=False)),\n",
              "                ('demux2array', Demux2Array()),\n",
              "                ('array2melspec',\n",
              "                 Array2MelSpec(frames=5, hop_length=512, n_fft=1024, n_mels=64,\n",
              "                               power=2.0, sampling_rate=None)),\n",
              "                ('final_model',\n",
              "                 <mtsa.models.hitachi.AutoEncoderMixin object at 0x7f5f70393fa0>)])"
            ]
          },
          "execution_count": 64,
          "metadata": {},
          "output_type": "execute_result"
        }
      ],
      "source": [
        "from mtsa import Hitachi\n",
        "model_hitachi = Hitachi()\n",
        "model_hitachi.fit(X_train, y_train)\n",
        "model_hitachi.model"
      ]
    },
    {
      "cell_type": "code",
      "execution_count": 65,
      "metadata": {
        "colab": {
          "base_uri": "https://localhost:8080/"
        },
        "id": "NmdbBjP04lI1",
        "outputId": "f2fd5bd8-4144-4a4d-f51a-47d173ebc56c"
      },
      "outputs": [
        {
          "name": "stdout",
          "output_type": "stream",
          "text": [
            "14/14 [==============================] - 0s 6ms/step\n",
            "14/14 [==============================] - 0s 714us/step\n",
            "14/14 [==============================] - 0s 717us/step\n",
            "14/14 [==============================] - 0s 805us/step\n",
            "14/14 [==============================] - 0s 781us/step\n",
            "14/14 [==============================] - 0s 720us/step\n",
            "14/14 [==============================] - 0s 766us/step\n",
            "14/14 [==============================] - 0s 757us/step\n",
            "14/14 [==============================] - 0s 817us/step\n",
            "14/14 [==============================] - 0s 786us/step\n"
          ]
        },
        {
          "data": {
            "text/plain": [
              "0.48"
            ]
          },
          "execution_count": 65,
          "metadata": {},
          "output_type": "execute_result"
        }
      ],
      "source": [
        "auc = calculate_aucroc(model_hitachi, X_test, y_test)\n",
        "auc"
      ]
    },
    {
      "cell_type": "code",
      "execution_count": 66,
      "metadata": {
        "id": "RQ2nso5T4rag"
      },
      "outputs": [
        {
          "ename": "ImportError",
          "evalue": "cannot import name 'IsolationForestMix' from 'mtsa' (/usr/local/lib/python3.8/dist-packages/mtsa/__init__.py)",
          "output_type": "error",
          "traceback": [
            "\u001b[0;31m---------------------------------------------------------------------------\u001b[0m",
            "\u001b[0;31mImportError\u001b[0m                               Traceback (most recent call last)",
            "Cell \u001b[0;32mIn[66], line 1\u001b[0m\n\u001b[0;32m----> 1\u001b[0m \u001b[38;5;28;01mfrom\u001b[39;00m \u001b[38;5;21;01mmtsa\u001b[39;00m \u001b[38;5;28;01mimport\u001b[39;00m IsolationForestMix\n\u001b[1;32m      4\u001b[0m model_ifmix \u001b[38;5;241m=\u001b[39m IsolationForestMix()\n\u001b[1;32m      5\u001b[0m model_ifmix\u001b[38;5;241m.\u001b[39mfit(X_train, y_train)\n",
            "\u001b[0;31mImportError\u001b[0m: cannot import name 'IsolationForestMix' from 'mtsa' (/usr/local/lib/python3.8/dist-packages/mtsa/__init__.py)"
          ]
        }
      ],
      "source": [
        "from mtsa import IsolationForestMix\n",
        "\n",
        "\n",
        "model_ifmix = IsolationForestMix()\n",
        "model_ifmix.fit(X_train, y_train)\n",
        "model_ifmix.model"
      ]
    }
  ],
  "metadata": {
    "colab": {
      "authorship_tag": "ABX9TyNBZGR2CHjd5DTVJQyBRUus",
      "include_colab_link": true,
      "provenance": []
    },
    "kernelspec": {
      "display_name": "Python 3",
      "language": "python",
      "name": "python3"
    },
    "language_info": {
      "codemirror_mode": {
        "name": "ipython",
        "version": 3
      },
      "file_extension": ".py",
      "mimetype": "text/x-python",
      "name": "python",
      "nbconvert_exporter": "python",
      "pygments_lexer": "ipython3",
      "version": "3.8.10"
    },
    "vscode": {
      "interpreter": {
        "hash": "916dbcbb3f70747c44a77c7bcd40155683ae19c65e1c03b4aa3499c5328201f1"
      }
    }
  },
  "nbformat": 4,
  "nbformat_minor": 0
}
